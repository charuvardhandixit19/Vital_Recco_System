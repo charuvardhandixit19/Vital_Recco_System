{
 "cells": [
  {
   "cell_type": "code",
   "execution_count": 32,
   "id": "4acd4dd8-706b-452d-b88f-40a09e0fad16",
   "metadata": {},
   "outputs": [],
   "source": [
    "import pandas as pd"
   ]
  },
  {
   "cell_type": "code",
   "execution_count": 33,
   "id": "a49df1c8-d30c-445e-8dc3-4c587a858163",
   "metadata": {},
   "outputs": [],
   "source": [
    "dataset = pd.read_csv('../DataSet/Training.csv')"
   ]
  },
  {
   "cell_type": "code",
   "execution_count": 34,
   "id": "14ffa832-2d06-46bb-8f99-32ca753ce8f9",
   "metadata": {},
   "outputs": [
    {
     "data": {
      "text/plain": [
       "(4920, 133)"
      ]
     },
     "execution_count": 34,
     "metadata": {},
     "output_type": "execute_result"
    }
   ],
   "source": [
    "dataset.shape"
   ]
  },
  {
   "cell_type": "markdown",
   "id": "659847bf-ebdf-42cf-bf67-db7b8e02c76d",
   "metadata": {},
   "source": [
    " Train Test Split"
   ]
  },
  {
   "cell_type": "code",
   "execution_count": 35,
   "id": "d4d98a1c-33fd-4532-b9dc-f56ae5f7d168",
   "metadata": {},
   "outputs": [],
   "source": [
    "from sklearn.model_selection import train_test_split\n",
    "from sklearn.preprocessing import LabelEncoder"
   ]
  },
  {
   "cell_type": "code",
   "execution_count": 36,
   "id": "483bc486-8131-4bd3-9ff6-a52482cd9954",
   "metadata": {},
   "outputs": [],
   "source": [
    "X=dataset.drop(\"prognosis\", axis=1)\n",
    "y=dataset['prognosis']"
   ]
  },
  {
   "cell_type": "code",
   "execution_count": 37,
   "id": "4d97350e-471b-401a-9d2b-39ae1e869354",
   "metadata": {},
   "outputs": [],
   "source": [
    "le=LabelEncoder()\n",
    "le.fit(y)\n",
    "Y=le.transform(y)"
   ]
  },
  {
   "cell_type": "code",
   "execution_count": 38,
   "id": "7f6b4a59-01ee-4686-98a5-a65aaeb09e2c",
   "metadata": {},
   "outputs": [
    {
     "name": "stdout",
     "output_type": "stream",
     "text": [
      "[15 15 15 ... 38 35 27]\n"
     ]
    }
   ],
   "source": [
    "print(Y)"
   ]
  },
  {
   "cell_type": "code",
   "execution_count": 39,
   "id": "272c5760-d4d3-486c-9a8d-28dd1de06ee0",
   "metadata": {},
   "outputs": [
    {
     "name": "stdout",
     "output_type": "stream",
     "text": [
      "['Fungal infection' 'Fungal infection' 'Fungal infection' ...\n",
      " 'Urinary tract infection' 'Psoriasis' 'Impetigo']\n"
     ]
    }
   ],
   "source": [
    "original_labels = le.inverse_transform(Y)\n",
    "print(original_labels)"
   ]
  },
  {
   "cell_type": "code",
   "execution_count": 40,
   "id": "e2d5f1cc-5925-4c2f-a30f-8303d9cd373d",
   "metadata": {},
   "outputs": [],
   "source": [
    "X_train,X_test,y_train,y_test= train_test_split(X,Y,test_size=0.3,random_state=20)"
   ]
  },
  {
   "cell_type": "code",
   "execution_count": 41,
   "id": "f6bbe8c7-3499-44ac-8111-a9404694f5d6",
   "metadata": {},
   "outputs": [
    {
     "data": {
      "text/plain": [
       "((3444, 132), (1476, 132), (3444,), (1476,))"
      ]
     },
     "execution_count": 41,
     "metadata": {},
     "output_type": "execute_result"
    }
   ],
   "source": [
    "X_train.shape,X_test.shape,y_train.shape,y_test.shape"
   ]
  },
  {
   "cell_type": "code",
   "execution_count": 42,
   "id": "bd5acbe2-d677-4166-afb9-36d84de99687",
   "metadata": {},
   "outputs": [
    {
     "name": "stdout",
     "output_type": "stream",
     "text": [
      ":SVC accuracy:1.0 \n",
      "SVC Confusion Matrix:\n",
      "[[40, 0, 0,..., 0, 0, 0],\n",
      " [ 0,43, 0,..., 0, 0, 0],\n",
      " [ 0, 0,28,..., 0, 0, 0],\n",
      " ...,\n",
      " [ 0, 0, 0,...,34, 0, 0],\n",
      " [ 0, 0, 0,..., 0,41, 0],\n",
      " [ 0, 0, 0,..., 0, 0,31]]\n",
      ":RandomForest accuracy:1.0 \n",
      "RandomForest Confusion Matrix:\n",
      "[[40, 0, 0,..., 0, 0, 0],\n",
      " [ 0,43, 0,..., 0, 0, 0],\n",
      " [ 0, 0,28,..., 0, 0, 0],\n",
      " ...,\n",
      " [ 0, 0, 0,...,34, 0, 0],\n",
      " [ 0, 0, 0,..., 0,41, 0],\n",
      " [ 0, 0, 0,..., 0, 0,31]]\n",
      ":GradientBoosting accuracy:1.0 \n",
      "GradientBoosting Confusion Matrix:\n",
      "[[40, 0, 0,..., 0, 0, 0],\n",
      " [ 0,43, 0,..., 0, 0, 0],\n",
      " [ 0, 0,28,..., 0, 0, 0],\n",
      " ...,\n",
      " [ 0, 0, 0,...,34, 0, 0],\n",
      " [ 0, 0, 0,..., 0,41, 0],\n",
      " [ 0, 0, 0,..., 0, 0,31]]\n",
      ":KNeighbors accuracy:1.0 \n",
      "KNeighbors Confusion Matrix:\n",
      "[[40, 0, 0,..., 0, 0, 0],\n",
      " [ 0,43, 0,..., 0, 0, 0],\n",
      " [ 0, 0,28,..., 0, 0, 0],\n",
      " ...,\n",
      " [ 0, 0, 0,...,34, 0, 0],\n",
      " [ 0, 0, 0,..., 0,41, 0],\n",
      " [ 0, 0, 0,..., 0, 0,31]]\n",
      ":MultinomialNB accuracy:1.0 \n",
      "MultinomialNB Confusion Matrix:\n",
      "[[40, 0, 0,..., 0, 0, 0],\n",
      " [ 0,43, 0,..., 0, 0, 0],\n",
      " [ 0, 0,28,..., 0, 0, 0],\n",
      " ...,\n",
      " [ 0, 0, 0,...,34, 0, 0],\n",
      " [ 0, 0, 0,..., 0,41, 0],\n",
      " [ 0, 0, 0,..., 0, 0,31]]\n"
     ]
    }
   ],
   "source": [
    "from sklearn.datasets import make_classification\n",
    "from sklearn.svm import SVC\n",
    "from sklearn.ensemble import RandomForestClassifier, GradientBoostingClassifier\n",
    "from sklearn.neighbors import KNeighborsClassifier\n",
    "from sklearn.naive_bayes import MultinomialNB\n",
    "from sklearn.metrics import accuracy_score, confusion_matrix\n",
    "import numpy as np\n",
    "# CREATE A DICTIONARY TO STORE A MODEL\n",
    "models={\n",
    "    \"SVC\":SVC(kernel='linear'),\n",
    "    \"RandomForest\": RandomForestClassifier(n_estimators=100,random_state=42),\n",
    "    \"GradientBoosting\": GradientBoostingClassifier(n_estimators=100,random_state=42),\n",
    "    \"KNeighbors\": KNeighborsClassifier(n_neighbors=5),\n",
    "    \"MultinomialNB\": MultinomialNB()   \n",
    "}\n",
    "for model_name, model in models.items():\n",
    "    # print(model_name,\":\",model)\n",
    "    # TRAIN THE MODEL\n",
    "    model.fit(X_train,y_train)\n",
    "    # TEST THE MODEL\n",
    "    predictions=model.predict(X_test)\n",
    "    # CALCULATE ACCURACY\n",
    "    accuracy=accuracy_score(y_test,predictions)\n",
    "    #CALCULATE THE CONFUSION MATRIX\n",
    "    cm=confusion_matrix(y_test,predictions)\n",
    "    # PRINTING\n",
    "    print(f\":{model_name } accuracy:{accuracy } \")\n",
    "    print(f\"{model_name} Confusion Matrix:\")\n",
    "    print(np.array2string(cm,separator=\",\"))\n",
    "  "
   ]
  },
  {
   "cell_type": "markdown",
   "id": "ff14d479-5dd4-4899-9a56-023c053cfe23",
   "metadata": {},
   "source": [
    "SINGLE PREDICITIONS"
   ]
  },
  {
   "cell_type": "code",
   "execution_count": 43,
   "id": "33ce6972-0c3b-4dc1-9094-8dfcb6550168",
   "metadata": {},
   "outputs": [
    {
     "data": {
      "text/plain": [
       "1.0"
      ]
     },
     "execution_count": 43,
     "metadata": {},
     "output_type": "execute_result"
    }
   ],
   "source": [
    "svc = SVC(kernel='linear')\n",
    "svc.fit( X_train,y_train)\n",
    "ypred=svc.predict(X_test)\n",
    "accuracy_score(y_test,ypred)"
   ]
  },
  {
   "cell_type": "code",
   "execution_count": 28,
   "id": "5022352f-105b-445a-85cc-fb9c43ecaa00",
   "metadata": {},
   "outputs": [],
   "source": [
    "# Saving Model\n",
    "import pickle\n",
    "# pickle.dump(svc,open(\"svc.pkl\",'wb'))"
   ]
  },
  {
   "cell_type": "code",
   "execution_count": 29,
   "id": "14c93215-d8b2-4ebc-af9a-a3e00f175e66",
   "metadata": {},
   "outputs": [
    {
     "ename": "FileNotFoundError",
     "evalue": "[Errno 2] No such file or directory: 'Models/svc.pkl'",
     "output_type": "error",
     "traceback": [
      "\u001b[1;31m---------------------------------------------------------------------------\u001b[0m",
      "\u001b[1;31mFileNotFoundError\u001b[0m                         Traceback (most recent call last)",
      "Cell \u001b[1;32mIn[29], line 2\u001b[0m\n\u001b[0;32m      1\u001b[0m \u001b[38;5;66;03m# Load the Model\u001b[39;00m\n\u001b[1;32m----> 2\u001b[0m svc\u001b[38;5;241m=\u001b[39mpickle\u001b[38;5;241m.\u001b[39mload(\u001b[38;5;28;43mopen\u001b[39;49m\u001b[43m(\u001b[49m\u001b[38;5;124;43m'\u001b[39;49m\u001b[38;5;124;43mModels/svc.pkl\u001b[39;49m\u001b[38;5;124;43m'\u001b[39;49m\u001b[43m,\u001b[49m\u001b[38;5;124;43m'\u001b[39;49m\u001b[38;5;124;43mrb\u001b[39;49m\u001b[38;5;124;43m'\u001b[39;49m\u001b[43m)\u001b[49m)\n",
      "File \u001b[1;32m~\\AppData\\Local\\Programs\\Python\\Python312\\Lib\\site-packages\\IPython\\core\\interactiveshell.py:324\u001b[0m, in \u001b[0;36m_modified_open\u001b[1;34m(file, *args, **kwargs)\u001b[0m\n\u001b[0;32m    317\u001b[0m \u001b[38;5;28;01mif\u001b[39;00m file \u001b[38;5;129;01min\u001b[39;00m {\u001b[38;5;241m0\u001b[39m, \u001b[38;5;241m1\u001b[39m, \u001b[38;5;241m2\u001b[39m}:\n\u001b[0;32m    318\u001b[0m     \u001b[38;5;28;01mraise\u001b[39;00m \u001b[38;5;167;01mValueError\u001b[39;00m(\n\u001b[0;32m    319\u001b[0m         \u001b[38;5;124mf\u001b[39m\u001b[38;5;124m\"\u001b[39m\u001b[38;5;124mIPython won\u001b[39m\u001b[38;5;124m'\u001b[39m\u001b[38;5;124mt let you open fd=\u001b[39m\u001b[38;5;132;01m{\u001b[39;00mfile\u001b[38;5;132;01m}\u001b[39;00m\u001b[38;5;124m by default \u001b[39m\u001b[38;5;124m\"\u001b[39m\n\u001b[0;32m    320\u001b[0m         \u001b[38;5;124m\"\u001b[39m\u001b[38;5;124mas it is likely to crash IPython. If you know what you are doing, \u001b[39m\u001b[38;5;124m\"\u001b[39m\n\u001b[0;32m    321\u001b[0m         \u001b[38;5;124m\"\u001b[39m\u001b[38;5;124myou can use builtins\u001b[39m\u001b[38;5;124m'\u001b[39m\u001b[38;5;124m open.\u001b[39m\u001b[38;5;124m\"\u001b[39m\n\u001b[0;32m    322\u001b[0m     )\n\u001b[1;32m--> 324\u001b[0m \u001b[38;5;28;01mreturn\u001b[39;00m \u001b[43mio_open\u001b[49m\u001b[43m(\u001b[49m\u001b[43mfile\u001b[49m\u001b[43m,\u001b[49m\u001b[43m \u001b[49m\u001b[38;5;241;43m*\u001b[39;49m\u001b[43margs\u001b[49m\u001b[43m,\u001b[49m\u001b[43m \u001b[49m\u001b[38;5;241;43m*\u001b[39;49m\u001b[38;5;241;43m*\u001b[39;49m\u001b[43mkwargs\u001b[49m\u001b[43m)\u001b[49m\n",
      "\u001b[1;31mFileNotFoundError\u001b[0m: [Errno 2] No such file or directory: 'Models/svc.pkl'"
     ]
    }
   ],
   "source": [
    "# Load the Model\n",
    "svc=pickle.load(open('Models/svc.pkl','rb'))"
   ]
  },
  {
   "cell_type": "code",
   "execution_count": 44,
   "id": "ce4b536f-5eea-4fe3-a856-1f43d55fc79f",
   "metadata": {},
   "outputs": [
    {
     "name": "stdout",
     "output_type": "stream",
     "text": [
      "Predicted Lable [40]\n",
      "Actual Lable 40\n"
     ]
    },
    {
     "name": "stderr",
     "output_type": "stream",
     "text": [
      "C:\\Users\\Isha Vardhan Dixit\\AppData\\Local\\Programs\\Python\\Python312\\Lib\\site-packages\\sklearn\\base.py:493: UserWarning: X does not have valid feature names, but SVC was fitted with feature names\n",
      "  warnings.warn(\n"
     ]
    }
   ],
   "source": [
    "# TEST 1\n",
    "print(\"Predicted Lable\",svc.predict(X_test.iloc[0].values.reshape(1,-1)))\n",
    "print(\"Actual Lable\",y_test[0])"
   ]
  },
  {
   "cell_type": "code",
   "execution_count": null,
   "id": "c703fa1a-8bf1-4014-a793-2b124591d4f9",
   "metadata": {},
   "outputs": [],
   "source": []
  },
  {
   "cell_type": "code",
   "execution_count": 49,
   "id": "8cdbc491-d8c9-4be7-b495-7e671b095046",
   "metadata": {},
   "outputs": [
    {
     "name": "stdout",
     "output_type": "stream",
     "text": [
      "Predicted Lable [20]\n",
      "Actual Lable 20\n"
     ]
    },
    {
     "name": "stderr",
     "output_type": "stream",
     "text": [
      "C:\\Users\\Isha Vardhan Dixit\\AppData\\Local\\Programs\\Python\\Python312\\Lib\\site-packages\\sklearn\\base.py:493: UserWarning: X does not have valid feature names, but SVC was fitted with feature names\n",
      "  warnings.warn(\n"
     ]
    }
   ],
   "source": [
    "# TEST 2\n",
    "print(\"Predicted Lable\",svc.predict(X_test.iloc[10].values.reshape(1,-1)))\n",
    "print(\"Actual Lable\",y_test[10])"
   ]
  },
  {
   "cell_type": "code",
   "execution_count": 61,
   "id": "ac8e8448-1e9e-4c90-aa2e-7b9b2e9f4eae",
   "metadata": {},
   "outputs": [],
   "source": [
    "import pandas as pd\n",
    "sym_des=pd.read_csv(\"C:\\\\Users\\\\Isha Vardhan Dixit\\\\Desktop\\\\CharuVardhanDixit\\\\RecommendationSystem\\\\DataSet\\\\symtoms_df.csv\")\n",
    "precautions=pd.read_csv(\"C:\\\\Users\\\\Isha Vardhan Dixit\\\\Desktop\\\\CharuVardhanDixit\\\\RecommendationSystem\\\\DataSet\\\\precautions_df.csv\")\n",
    "workout=pd.read_csv(\"C:\\\\Users\\\\Isha Vardhan Dixit\\\\Desktop\\\\CharuVardhanDixit\\\\RecommendationSystem\\\\DataSet\\\\workout_df.csv\")\n",
    "description=pd.read_csv(\"C:\\\\Users\\\\Isha Vardhan Dixit\\\\Desktop\\\\CharuVardhanDixit\\\\RecommendationSystem\\\\DataSet\\\\description.csv\")\n",
    "medication=pd.read_csv(\"C:\\\\Users\\\\Isha Vardhan Dixit\\\\Desktop\\\\CharuVardhanDixit\\\\RecommendationSystem\\\\DataSet\\\\medications.csv\")\n",
    "diet=pd.read_csv(\"C:\\\\Users\\\\Isha Vardhan Dixit\\\\Desktop\\\\CharuVardhanDixit\\\\RecommendationSystem\\\\DataSet\\\\diets.csv\")\n",
    "doctor_data = pd.read_csv(\"C:\\\\Users\\\\Isha Vardhan Dixit\\\\Desktop\\\\CharuVardhanDixit\\\\RecommendationSystem\\\\DataSet\\\\Disease_Doctor_Data.csv\")\n",
    "\n",
    "#medication\n",
    "# diet\n",
    "# precautions\n",
    "# description"
   ]
  },
  {
   "cell_type": "code",
   "execution_count": 59,
   "id": "5fedaa8d-432c-40da-8f9a-8d772b762887",
   "metadata": {},
   "outputs": [
    {
     "data": {
      "text/html": [
       "<div>\n",
       "<style scoped>\n",
       "    .dataframe tbody tr th:only-of-type {\n",
       "        vertical-align: middle;\n",
       "    }\n",
       "\n",
       "    .dataframe tbody tr th {\n",
       "        vertical-align: top;\n",
       "    }\n",
       "\n",
       "    .dataframe thead th {\n",
       "        text-align: right;\n",
       "    }\n",
       "</style>\n",
       "<table border=\"1\" class=\"dataframe\">\n",
       "  <thead>\n",
       "    <tr style=\"text-align: right;\">\n",
       "      <th></th>\n",
       "      <th>Disease</th>\n",
       "      <th>Doctor_Name</th>\n",
       "      <th>Specialization</th>\n",
       "      <th>Contact</th>\n",
       "      <th>Location</th>\n",
       "    </tr>\n",
       "  </thead>\n",
       "  <tbody>\n",
       "    <tr>\n",
       "      <th>0</th>\n",
       "      <td>Fungal infection</td>\n",
       "      <td>Dr. A Sharma</td>\n",
       "      <td>Dermatologist</td>\n",
       "      <td>9876543210</td>\n",
       "      <td>Delhi</td>\n",
       "    </tr>\n",
       "    <tr>\n",
       "      <th>1</th>\n",
       "      <td>Allergy</td>\n",
       "      <td>Dr. B Kapoor</td>\n",
       "      <td>Allergist</td>\n",
       "      <td>9876543211</td>\n",
       "      <td>Mumbai</td>\n",
       "    </tr>\n",
       "    <tr>\n",
       "      <th>2</th>\n",
       "      <td>GERD</td>\n",
       "      <td>Dr. C Singh</td>\n",
       "      <td>Gastroenterologist</td>\n",
       "      <td>9876543212</td>\n",
       "      <td>Kolkata</td>\n",
       "    </tr>\n",
       "    <tr>\n",
       "      <th>3</th>\n",
       "      <td>Chronic cholestasis</td>\n",
       "      <td>Dr. D Mehta</td>\n",
       "      <td>Hepatologist</td>\n",
       "      <td>9876543213</td>\n",
       "      <td>Chennai</td>\n",
       "    </tr>\n",
       "    <tr>\n",
       "      <th>4</th>\n",
       "      <td>Drug Reaction</td>\n",
       "      <td>Dr. E Gupta</td>\n",
       "      <td>Immunologist</td>\n",
       "      <td>9876543214</td>\n",
       "      <td>Bangalore</td>\n",
       "    </tr>\n",
       "    <tr>\n",
       "      <th>5</th>\n",
       "      <td>Peptic ulcer disease</td>\n",
       "      <td>Dr. F Varma</td>\n",
       "      <td>Gastroenterologist</td>\n",
       "      <td>9876543215</td>\n",
       "      <td>Hyderabad</td>\n",
       "    </tr>\n",
       "    <tr>\n",
       "      <th>6</th>\n",
       "      <td>AIDS</td>\n",
       "      <td>Dr. G Patel</td>\n",
       "      <td>Infectious Disease Specialist</td>\n",
       "      <td>9876543216</td>\n",
       "      <td>Pune</td>\n",
       "    </tr>\n",
       "    <tr>\n",
       "      <th>7</th>\n",
       "      <td>Diabetes</td>\n",
       "      <td>Dr. H Roy</td>\n",
       "      <td>Endocrinologist</td>\n",
       "      <td>9876543217</td>\n",
       "      <td>Ahmedabad</td>\n",
       "    </tr>\n",
       "    <tr>\n",
       "      <th>8</th>\n",
       "      <td>Gastroenteritis</td>\n",
       "      <td>Dr. I Chandra</td>\n",
       "      <td>Gastroenterologist</td>\n",
       "      <td>9876543218</td>\n",
       "      <td>Jaipur</td>\n",
       "    </tr>\n",
       "    <tr>\n",
       "      <th>9</th>\n",
       "      <td>Bronchial Asthma</td>\n",
       "      <td>Dr. J Rao</td>\n",
       "      <td>Pulmonologist</td>\n",
       "      <td>9876543219</td>\n",
       "      <td>Lucknow</td>\n",
       "    </tr>\n",
       "  </tbody>\n",
       "</table>\n",
       "</div>"
      ],
      "text/plain": [
       "                Disease    Doctor_Name                 Specialization  \\\n",
       "0      Fungal infection   Dr. A Sharma                  Dermatologist   \n",
       "1               Allergy   Dr. B Kapoor                      Allergist   \n",
       "2                  GERD    Dr. C Singh             Gastroenterologist   \n",
       "3   Chronic cholestasis    Dr. D Mehta                   Hepatologist   \n",
       "4         Drug Reaction    Dr. E Gupta                   Immunologist   \n",
       "5  Peptic ulcer disease    Dr. F Varma             Gastroenterologist   \n",
       "6                  AIDS    Dr. G Patel  Infectious Disease Specialist   \n",
       "7              Diabetes      Dr. H Roy                Endocrinologist   \n",
       "8       Gastroenteritis  Dr. I Chandra             Gastroenterologist   \n",
       "9      Bronchial Asthma      Dr. J Rao                  Pulmonologist   \n",
       "\n",
       "      Contact   Location  \n",
       "0  9876543210      Delhi  \n",
       "1  9876543211     Mumbai  \n",
       "2  9876543212    Kolkata  \n",
       "3  9876543213    Chennai  \n",
       "4  9876543214  Bangalore  \n",
       "5  9876543215  Hyderabad  \n",
       "6  9876543216       Pune  \n",
       "7  9876543217  Ahmedabad  \n",
       "8  9876543218     Jaipur  \n",
       "9  9876543219    Lucknow  "
      ]
     },
     "execution_count": 59,
     "metadata": {},
     "output_type": "execute_result"
    }
   ],
   "source": [
    "doctor_data.head(10)"
   ]
  },
  {
   "cell_type": "code",
   "execution_count": 63,
   "id": "94380e29-2fbd-419e-942f-30f1947f0328",
   "metadata": {},
   "outputs": [],
   "source": [
    "def helper(predicted_disease):\n",
    "    # Get description\n",
    "    desc=description[description['Disease']==predicted_disease]['Description']\n",
    "    desc=\" \".join(desc.values)\n",
    "    # Get precautions\n",
    "    pre=precautions[precautions['Disease']==predicted_disease][['Precaution_1','Precaution_2','Precaution_3','Precaution_4']]\n",
    "    pre=[col for col in pre.values]\n",
    "    # # Get doctor recommendations\n",
    "    doctors = doctor_data[doctor_data['Disease'] == predicted_disease][['Doctor_Name', 'Contact', 'Specialization']]\n",
    "    doctors_list = doctors.to_dict('records')  # Convert to list of dictionaries for easier display\n",
    "\n",
    "    # return desc, pre\n",
    "    return desc, pre, doctors_list\n",
    "\n",
    "symptoms_dict = {'itching': 0, 'skin_rash': 1, 'nodal_skin_eruptions': 2, 'continuous_sneezing': 3, 'shivering': 4, 'chills': 5, 'joint_pain': 6, 'stomach_pain': 7, 'acidity': 8, 'ulcers_on_tongue': 9, 'muscle_wasting': 10, 'vomiting': 11, 'burning_micturition': 12, 'spotting_ urination': 13, 'fatigue': 14, 'weight_gain': 15, 'anxiety': 16, 'cold_hands_and_feets': 17, 'mood_swings': 18, 'weight_loss': 19, 'restlessness': 20, 'lethargy': 21, 'patches_in_throat': 22, 'irregular_sugar_level': 23, 'cough': 24, 'high_fever': 25, 'sunken_eyes': 26, 'breathlessness': 27, 'sweating': 28, 'dehydration': 29, 'indigestion': 30, 'headache': 31, 'yellowish_skin': 32, 'dark_urine': 33, 'nausea': 34, 'loss_of_appetite': 35, 'pain_behind_the_eyes': 36, 'back_pain': 37, 'constipation': 38, 'abdominal_pain': 39, 'diarrhoea': 40, 'mild_fever': 41, 'yellow_urine': 42, 'yellowing_of_eyes': 43, 'acute_liver_failure': 44, 'fluid_overload': 45, 'swelling_of_stomach': 46, 'swelled_lymph_nodes': 47, 'malaise': 48, 'blurred_and_distorted_vision': 49, 'phlegm': 50, 'throat_irritation': 51, 'redness_of_eyes': 52, 'sinus_pressure': 53, 'runny_nose': 54, 'congestion': 55, 'chest_pain': 56, 'weakness_in_limbs': 57, 'fast_heart_rate': 58, 'pain_during_bowel_movements': 59, 'pain_in_anal_region': 60, 'bloody_stool': 61, 'irritation_in_anus': 62, 'neck_pain': 63, 'dizziness': 64, 'cramps': 65, 'bruising': 66, 'obesity': 67, 'swollen_legs': 68, 'swollen_blood_vessels': 69, 'puffy_face_and_eyes': 70, 'enlarged_thyroid': 71, 'brittle_nails': 72, 'swollen_extremeties': 73, 'excessive_hunger': 74, 'extra_marital_contacts': 75, 'drying_and_tingling_lips': 76, 'slurred_speech': 77, 'knee_pain': 78, 'hip_joint_pain': 79, 'muscle_weakness': 80, 'stiff_neck': 81, 'swelling_joints': 82, 'movement_stiffness': 83, 'spinning_movements': 84, 'loss_of_balance': 85, 'unsteadiness': 86, 'weakness_of_one_body_side': 87, 'loss_of_smell': 88, 'bladder_discomfort': 89, 'foul_smell_of urine': 90, 'continuous_feel_of_urine': 91, 'passage_of_gases': 92, 'internal_itching': 93, 'toxic_look_(typhos)': 94, 'depression': 95, 'irritability': 96, 'muscle_pain': 97, 'altered_sensorium': 98, 'red_spots_over_body': 99, 'belly_pain': 100, 'abnormal_menstruation': 101, 'dischromic _patches': 102, 'watering_from_eyes': 103, 'increased_appetite': 104, 'polyuria': 105, 'family_history': 106, 'mucoid_sputum': 107, 'rusty_sputum': 108, 'lack_of_concentration': 109, 'visual_disturbances': 110, 'receiving_blood_transfusion': 111, 'receiving_unsterile_injections': 112, 'coma': 113, 'stomach_bleeding': 114, 'distention_of_abdomen': 115, 'history_of_alcohol_consumption': 116, 'fluid_overload.1': 117, 'blood_in_sputum': 118, 'prominent_veins_on_calf': 119, 'palpitations': 120, 'painful_walking': 121, 'pus_filled_pimples': 122, 'blackheads': 123, 'scurring': 124, 'skin_peeling': 125, 'silver_like_dusting': 126, 'small_dents_in_nails': 127, 'inflammatory_nails': 128, 'blister': 129, 'red_sore_around_nose': 130, 'yellow_crust_ooze':131}\n",
    "diseases_list = {15: 'Fungal infection', 4: 'Allergy', 16: 'GERD', 9: 'Chronic cholestasis', 14: 'Drug Reaction', 33: 'Peptic ulcer diseae', 1: 'AIDS', 12: 'Diabetes ', 17: 'Gastroenteritis', 6: 'Bronchial Asthma', 23: 'Hypertension ', 30: 'Migraine', 7: 'Cervical spondylosis', 32: 'Paralysis (brain hemorrhage)', 28: 'Jaundice', 29: 'Malaria', 8: 'Chicken pox', 11: 'Dengue', 37: 'Typhoid', 40: 'hepatitis A', 19: 'Hepatitis B', 20: 'Hepatitis C', 21: 'Hepatitis D', 22: 'Hepatitis E', 3: 'Alcoholic hepatitis', 36: 'Tuberculosis', 10: 'Common Cold', 34: 'Pneumonia', 13: 'Dimorphic hemmorhoids(piles)', 18: 'Heart attack', 39: 'Varicose veins', 26: 'Hypothyroidism', 24: 'Hyperthyroidism', 25: 'Hypoglycemia', 31: 'Osteoarthristis', 5: 'Arthritis', 0: '(vertigo) Paroymsal  Positional Vertigo', 2: 'Acne', 38: 'Urinary tract infection', 35: 'Psoriasis', 27: 'Impetigo'}\n",
    "def get_predicted_value(patient_symptoms):\n",
    "    input_vector=np.zeros(len(symptoms_dict))\n",
    "    for item in patient_symptoms:\n",
    "        input_vector[symptoms_dict[item]]=1\n",
    "    return diseases_list[svc.predict([input_vector])[0]]\n"
   ]
  },
  {
   "cell_type": "code",
   "execution_count": 65,
   "id": "40e86966-8ca9-4475-bf05-208a471f30e5",
   "metadata": {},
   "outputs": [
    {
     "name": "stdin",
     "output_type": "stream",
     "text": [
      "Enter your symptoms:  itching, chills, skin_rash\n"
     ]
    },
    {
     "name": "stdout",
     "output_type": "stream",
     "text": [
      "---------------------------prdicted disease---------------\n",
      "Fungal infection\n",
      "----------------------description----------------------------\n",
      "Fungal infection is a common skin condition caused by fungi.\n",
      "-----------------------precautions---------------------------\n",
      "1 : bath twice\n",
      "2 : use detol or neem in bathing water\n",
      "3 : keep infected area dry\n",
      "4 : use clean cloths\n",
      "------------------- Doctor Recommendations ------------------\n",
      "Name: Dr. A Sharma, Specialization: Dermatologist, Contact: 9876543210\n"
     ]
    },
    {
     "name": "stderr",
     "output_type": "stream",
     "text": [
      "C:\\Users\\Isha Vardhan Dixit\\AppData\\Local\\Programs\\Python\\Python312\\Lib\\site-packages\\sklearn\\base.py:493: UserWarning: X does not have valid feature names, but SVC was fitted with feature names\n",
      "  warnings.warn(\n"
     ]
    }
   ],
   "source": [
    "#test1:\n",
    "symptoms = input(\"Enter your symptoms: \") # Input: \"itching, chills, skin_rash\"\n",
    "user_symptoms = [s.strip() for s in symptoms.split(',')]\n",
    "user_symptoms=[sym.strip(\"[]'\") for sym in user_symptoms]\n",
    "predicted_disease=get_predicted_value(user_symptoms)\n",
    "desc, pre, doctors = helper(predicted_disease)\n",
    "# desc, pre = helper(predicted_disease)\n",
    "#results print\n",
    "print(\"---------------------------prdicted disease---------------\")\n",
    "print(predicted_disease)\n",
    "print(\"----------------------description----------------------------\")\n",
    "print(desc)\n",
    "print(\"-----------------------precautions---------------------------\")\n",
    "i=1\n",
    "for p_i in pre[0]:\n",
    "    print(i,\":\",p_i)\n",
    "    i+=1\n",
    "\n",
    "print(\"------------------- Doctor Recommendations ------------------\")\n",
    "for doc in doctors:\n",
    "    print(f\"Name: {doc['Doctor_Name']}, Specialization: {doc['Specialization']}, Contact: {doc['Contact']}\")\n"
   ]
  },
  {
   "cell_type": "code",
   "execution_count": null,
   "id": "984e4777-fdb6-4580-9cb6-fd6c6de87a3a",
   "metadata": {},
   "outputs": [],
   "source": []
  },
  {
   "cell_type": "code",
   "execution_count": null,
   "id": "20aceaeb-d4b1-4c84-9230-83d203801bb0",
   "metadata": {},
   "outputs": [],
   "source": []
  },
  {
   "cell_type": "code",
   "execution_count": null,
   "id": "74883e42-0e4f-44ee-859d-fc0b0de67d31",
   "metadata": {},
   "outputs": [],
   "source": []
  },
  {
   "cell_type": "code",
   "execution_count": null,
   "id": "18da1d49-5828-421a-9d5d-5fb8b99eb5fd",
   "metadata": {},
   "outputs": [],
   "source": []
  },
  {
   "cell_type": "code",
   "execution_count": null,
   "id": "e000ac64-342a-406f-a83f-7b29e7b8242d",
   "metadata": {},
   "outputs": [],
   "source": []
  },
  {
   "cell_type": "code",
   "execution_count": null,
   "id": "a4064c3c-b690-4cad-ac38-e7fbf7eb928a",
   "metadata": {},
   "outputs": [],
   "source": []
  }
 ],
 "metadata": {
  "kernelspec": {
   "display_name": "Python 3 (ipykernel)",
   "language": "python",
   "name": "python3"
  },
  "language_info": {
   "codemirror_mode": {
    "name": "ipython",
    "version": 3
   },
   "file_extension": ".py",
   "mimetype": "text/x-python",
   "name": "python",
   "nbconvert_exporter": "python",
   "pygments_lexer": "ipython3",
   "version": "3.12.3"
  }
 },
 "nbformat": 4,
 "nbformat_minor": 5
}
